{
 "cells": [
  {
   "cell_type": "code",
   "execution_count": 3,
   "id": "b4101339",
   "metadata": {},
   "outputs": [],
   "source": [
    "from tkinter import *\n",
    "from tkinter import messagebox\n",
    "from PIL import ImageTk\n",
    "\n",
    "def login():\n",
    "    if usernameEntry.get()=='' or passwordEntry.get()=='':\n",
    "        messagebox.showerror('Error','Fields cannot be empty')\n",
    "    elif usernameEntry.get()=='Shambhavi' and passwordEntry.get()=='abcd':\n",
    "        messagebox.showinfo('Success','Welcome')\n",
    "        \n",
    "    else:\n",
    "        messagebox.showerror('Error','Please enter correct credentials')\n",
    "\n",
    "\n",
    "\n",
    "window=Tk()\n",
    "\n",
    "window.geometry('1280x700+0+0')\n",
    "\n",
    "window.resizable(False,False)\n",
    "\n",
    "backgroundImage=ImageTk.PhotoImage(file='bg.jpg')\n",
    "\n",
    "bgLabel=Label(window,image=backgroundImage)\n",
    "bgLabel.place(x=0,y=0)\n",
    "\n",
    "loginFrame=Frame(window,bg='white')\n",
    "loginFrame.place(x=400,y=150)\n",
    "\n",
    "logoImage=PhotoImage(file='logo.png')\n",
    "\n",
    "logoLabel=Label(loginFrame,image=logoImage)\n",
    "logoLabel.grid(row=0,column=0,columnspan=2,pady=10)\n",
    "usernameImage=PhotoImage(file='user.png')\n",
    "usernameLabel=Label(loginFrame,image=usernameImage,text='Username',compound=LEFT\n",
    "                    ,font=('times new roman',20,'bold'),bg='white')\n",
    "usernameLabel.grid(row=1,column=0,pady=10,padx=20)\n",
    "\n",
    "usernameEntry=Entry(loginFrame,font=('times new roman',20,'bold'),bd=5,fg='royalblue')\n",
    "usernameEntry.grid(row=1,column=1,pady=10,padx=20)\n",
    "\n",
    "passwordImage=PhotoImage(file='password.png')\n",
    "passwordLabel=Label(loginFrame,image=passwordImage,text='Password',compound=LEFT\n",
    "                    ,font=('times new roman',20,'bold'),bg='white')\n",
    "passwordLabel.grid(row=2,column=0,pady=10,padx=20)\n",
    "\n",
    "passwordEntry=Entry(loginFrame,font=('times new roman',20,'bold'),bd=5,fg='royalblue')\n",
    "passwordEntry.grid(row=2,column=1,pady=10,padx=20)\n",
    "\n",
    "loginButton=Button(loginFrame,text='Login',font=('times new roman',14,'bold'),width=15\n",
    "                   ,fg='white',bg='cornflowerblue',activebackground='cornflowerblue',\n",
    "                   activeforeground='white',cursor='hand2',command=login)\n",
    "loginButton.grid(row=3,column=1,pady=10)\n",
    "\n",
    "\n",
    "\n",
    "window.mainloop()"
   ]
  },
  {
   "cell_type": "code",
   "execution_count": null,
   "id": "2ef586ed",
   "metadata": {},
   "outputs": [],
   "source": []
  }
 ],
 "metadata": {
  "kernelspec": {
   "display_name": "Python 3 (ipykernel)",
   "language": "python",
   "name": "python3"
  },
  "language_info": {
   "codemirror_mode": {
    "name": "ipython",
    "version": 3
   },
   "file_extension": ".py",
   "mimetype": "text/x-python",
   "name": "python",
   "nbconvert_exporter": "python",
   "pygments_lexer": "ipython3",
   "version": "3.9.12"
  }
 },
 "nbformat": 4,
 "nbformat_minor": 5
}
